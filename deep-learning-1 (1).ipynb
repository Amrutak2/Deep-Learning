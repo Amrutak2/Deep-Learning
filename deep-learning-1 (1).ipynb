{
  "nbformat": 4,
  "nbformat_minor": 0,
  "metadata": {
    "colab": {
      "name": "Amruta-DL-1.ipynb",
      "provenance": [],
      "collapsed_sections": []
    },
    "kernelspec": {
      "name": "python3",
      "display_name": "Python 3"
    },
    "language_info": {
      "name": "python"
    }
  },
  "cells": [
    {
      "cell_type": "markdown",
      "metadata": {
        "id": "do-s4xiwUKQo"
      },
      "source": [
        "### Import libraries."
      ]
    },
    {
      "cell_type": "code",
      "metadata": {
        "id": "fMX31tyTQAKp"
      },
      "source": [
        "import os\n",
        "import time\n",
        "\n",
        "import numpy as np\n",
        "import tensorflow as tf\n",
        "import matplotlib.pyplot as plt"
      ],
      "execution_count": 1,
      "outputs": []
    },
    {
      "cell_type": "markdown",
      "metadata": {
        "id": "p6j0-pPVUj4A"
      },
      "source": [
        "### Global variables."
      ]
    },
    {
      "cell_type": "code",
      "metadata": {
        "id": "EhkSJ8DOUmr3"
      },
      "source": [
        "CLASS_NAMES= [\n",
        "  'airplane', \n",
        "  'automobile', \n",
        "  'bird', \n",
        "  'cat', \n",
        "  'deer', \n",
        "  'dog', \n",
        "  'frog', \n",
        "  'horse', \n",
        "  'ship', \n",
        "  'truck'\n",
        "]"
      ],
      "execution_count": 2,
      "outputs": []
    },
    {
      "cell_type": "markdown",
      "metadata": {
        "id": "efkU6DnQUYFU"
      },
      "source": [
        "### Read and split dataset."
      ]
    },
    {
      "cell_type": "code",
      "metadata": {
        "id": "VvcRIkYUQJH-"
      },
      "source": [
        "(train_images, train_labels), (test_images, test_labels) = tf.keras.datasets.cifar10.load_data()\n",
        "\n",
        "test_images, test_labels = test_images[: 5000], test_labels[: 5000]\n",
        "train_images_new, train_labels_new = train_images[: 5000], train_labels[: 5000]\n",
        "validation_images, validation_labels = train_images[5000 : 6000], train_labels[5000 : 6000]\n",
        "\n",
        "train_images, train_labels = train_images_new, train_labels_new"
      ],
      "execution_count": 3,
      "outputs": []
    },
    {
      "cell_type": "code",
      "metadata": {
        "id": "MkK9iVWeQPmP"
      },
      "source": [
        "test_ds = tf.data.Dataset.from_tensor_slices((test_images, test_labels))\n",
        "train_ds = tf.data.Dataset.from_tensor_slices((train_images, train_labels))\n",
        "validation_ds = tf.data.Dataset.from_tensor_slices((validation_images, validation_labels))"
      ],
      "execution_count": 4,
      "outputs": []
    },
    {
      "cell_type": "code",
      "metadata": {
        "colab": {
          "base_uri": "https://localhost:8080/",
          "height": 230
        },
        "id": "WlUzStMrQPpx",
        "outputId": "9dda737b-1f9f-42bd-e65d-9cb3b7cc7766"
      },
      "source": [
        "plt.figure(figsize=(80, 80))\n",
        "\n",
        "for i, (image, label) in enumerate(train_ds.take(5)):\n",
        "    ax = plt.subplot(20, 20, i+1)\n",
        "    plt.imshow(image)\n",
        "    plt.title(CLASS_NAMES[label.numpy()[0]])\n",
        "    plt.axis('off')"
      ],
      "execution_count": 5,
      "outputs": [
        {
          "output_type": "display_data",
          "data": {
            "image/png": "[encoded data removed]",
            "text/plain": [
              "<Figure size 5760x5760 with 5 Axes>"
            ]
          },
          "metadata": {
            "tags": [],
            "needs_background": "light"
          }
        }
      ]
    },
    {
      "cell_type": "code",
      "metadata": {
        "id": "ZHSwIWCOQT6y"
      },
      "source": [
        "def process_images(image, label):\n",
        "    \n",
        "    # Normalize images to have a mean of 0 and standard deviation of 1\n",
        "    image = tf.image.per_image_standardization(image)\n",
        "    # Resize images from 32x32 to 277x277\n",
        "    image = tf.image.resize(image, (227,227))\n",
        "    \n",
        "    return image, label"
      ],
      "execution_count": 6,
      "outputs": []
    },
    {
      "cell_type": "code",
      "metadata": {
        "colab": {
          "base_uri": "https://localhost:8080/"
        },
        "id": "sPhUdYzvQT9P",
        "outputId": "38b087c7-35f7-45cd-9186-b82afe778c98"
      },
      "source": [
        "test_ds_size = tf.data.experimental.cardinality(test_ds).numpy()\n",
        "train_ds_size = tf.data.experimental.cardinality(train_ds).numpy()\n",
        "validation_ds_size = tf.data.experimental.cardinality(validation_ds).numpy()\n",
        "\n",
        "print(\"Training data size:\", train_ds_size)\n",
        "print(\"Test data size:\", test_ds_size)\n",
        "print(\"Validation data size:\", validation_ds_size)"
      ],
      "execution_count": 7,
      "outputs": [
        {
          "output_type": "stream",
          "text": [
            "Training data size: 5000\n",
            "Test data size: 5000\n",
            "Validation data size: 1000\n"
          ],
          "name": "stdout"
        }
      ]
    },
    {
      "cell_type": "code",
      "metadata": {
        "id": "4npP02HSQbI2"
      },
      "source": [
        "train_ds = (train_ds\n",
        "                  .map(process_images)\n",
        "                  .shuffle(buffer_size=train_ds_size)\n",
        "                  .batch(batch_size=32, drop_remainder=True))\n",
        "\n",
        "test_ds = (test_ds\n",
        "                  .map(process_images)\n",
        "                  .shuffle(buffer_size=train_ds_size)\n",
        "                  .batch(batch_size=32, drop_remainder=True))\n",
        "\n",
        "validation_ds = (validation_ds\n",
        "                  .map(process_images)\n",
        "                  .shuffle(buffer_size=train_ds_size)\n",
        "                  .batch(batch_size=32, drop_remainder=True))"
      ],
      "execution_count": 8,
      "outputs": []
    },
    {
      "cell_type": "code",
      "metadata": {
        "id": "C40FSsw8QbLN"
      },
      "source": [
        "model = tf.keras.models.Sequential([\n",
        "    tf.keras.layers.Conv2D(filters=96, kernel_size=(11,11), strides=(4,4), activation='relu', input_shape=(227, 227, 3)),\n",
        "    tf.keras.layers.BatchNormalization(),\n",
        "    tf.keras.layers.MaxPool2D(pool_size=(3,3), strides=(2,2)),\n",
        "    tf.keras.layers.Conv2D(filters=256, kernel_size=(5,5), strides=(1,1), activation='relu', padding=\"same\"),\n",
        "    tf.keras.layers.BatchNormalization(),\n",
        "    tf.keras.layers.MaxPool2D(pool_size=(3,3), strides=(2,2)),\n",
        "    tf.keras.layers.Conv2D(filters=384, kernel_size=(3,3), strides=(1,1), activation='relu', padding=\"same\"),\n",
        "    tf.keras.layers.BatchNormalization(),\n",
        "    tf.keras.layers.Conv2D(filters=384, kernel_size=(1,1), strides=(1,1), activation='relu', padding=\"same\"),\n",
        "    tf.keras.layers.BatchNormalization(),\n",
        "    tf.keras.layers.Conv2D(filters=256, kernel_size=(1,1), strides=(1,1), activation='relu', padding=\"same\"),\n",
        "    tf.keras.layers.BatchNormalization(),\n",
        "    tf.keras.layers.MaxPool2D(pool_size=(3,3), strides=(2,2)),\n",
        "    tf.keras.layers.Flatten(),\n",
        "    tf.keras.layers.Dense(4096, activation='relu'),\n",
        "    tf.keras.layers.Dropout(0.5),\n",
        "    tf.keras.layers.Dense(4096, activation='relu'),\n",
        "    tf.keras.layers.Dropout(0.5),\n",
        "    tf.keras.layers.Dense(10, activation='softmax')\n",
        "])"
      ],
      "execution_count": 9,
      "outputs": []
    },
    {
      "cell_type": "code",
      "metadata": {
        "colab": {
          "base_uri": "https://localhost:8080/"
        },
        "id": "qxTfc38LQsiC",
        "outputId": "79d8e897-99f7-4d8b-95eb-f65632f99689"
      },
      "source": [
        "model.compile(loss='sparse_categorical_crossentropy', \n",
        "              optimizer=tf.optimizers.SGD(lr=0.001), \n",
        "              metrics=['accuracy'])\n",
        "\n",
        "model.summary()"
      ],
      "execution_count": 10,
      "outputs": [
        {
          "output_type": "stream",
          "text": [
            "Model: \"sequential\"\n",
            "_________________________________________________________________\n",
            "Layer (type)                 Output Shape              Param #   \n",
            "=================================================================\n",
            "conv2d (Conv2D)              (None, 55, 55, 96)        34944     \n",
            "_________________________________________________________________\n",
            "batch_normalization (BatchNo (None, 55, 55, 96)        384       \n",
            "_________________________________________________________________\n",
            "max_pooling2d (MaxPooling2D) (None, 27, 27, 96)        0         \n",
            "_________________________________________________________________\n",
            "conv2d_1 (Conv2D)            (None, 27, 27, 256)       614656    \n",
            "_________________________________________________________________\n",
            "batch_normalization_1 (Batch (None, 27, 27, 256)       1024      \n",
            "_________________________________________________________________\n",
            "max_pooling2d_1 (MaxPooling2 (None, 13, 13, 256)       0         \n",
            "_________________________________________________________________\n",
            "conv2d_2 (Conv2D)            (None, 13, 13, 384)       885120    \n",
            "_________________________________________________________________\n",
            "batch_normalization_2 (Batch (None, 13, 13, 384)       1536      \n",
            "_________________________________________________________________\n",
            "conv2d_3 (Conv2D)            (None, 13, 13, 384)       147840    \n",
            "_________________________________________________________________\n",
            "batch_normalization_3 (Batch (None, 13, 13, 384)       1536      \n",
            "_________________________________________________________________\n",
            "conv2d_4 (Conv2D)            (None, 13, 13, 256)       98560     \n",
            "_________________________________________________________________\n",
            "batch_normalization_4 (Batch (None, 13, 13, 256)       1024      \n",
            "_________________________________________________________________\n",
            "max_pooling2d_2 (MaxPooling2 (None, 6, 6, 256)         0         \n",
            "_________________________________________________________________\n",
            "flatten (Flatten)            (None, 9216)              0         \n",
            "_________________________________________________________________\n",
            "dense (Dense)                (None, 4096)              37752832  \n",
            "_________________________________________________________________\n",
            "dropout (Dropout)            (None, 4096)              0         \n",
            "_________________________________________________________________\n",
            "dense_1 (Dense)              (None, 4096)              16781312  \n",
            "_________________________________________________________________\n",
            "dropout_1 (Dropout)          (None, 4096)              0         \n",
            "_________________________________________________________________\n",
            "dense_2 (Dense)              (None, 10)                40970     \n",
            "=================================================================\n",
            "Total params: 56,361,738\n",
            "Trainable params: 56,358,986\n",
            "Non-trainable params: 2,752\n",
            "_________________________________________________________________\n"
          ],
          "name": "stdout"
        }
      ]
    },
    {
      "cell_type": "code",
      "metadata": {
        "colab": {
          "base_uri": "https://localhost:8080/"
        },
        "id": "AtlCOAfMQzej",
        "outputId": "b88e7fb8-8dc6-4620-b1a7-a265a8775266"
      },
      "source": [
        "callbacks = [\n",
        "    tf.keras.callbacks.EarlyStopping(monitor='val_loss', \n",
        "                                    patience=1, \n",
        "                                    verbose=1),\n",
        "]\n",
        "\n",
        "\n",
        "model.fit(train_ds,\n",
        "          epochs=10,\n",
        "          batch_size=128,\n",
        "          validation_data=validation_ds,\n",
        "          validation_freq=1,\n",
        "          callbacks=callbacks)"
      ],
      "execution_count": null,
      "outputs": [
        {
          "output_type": "stream",
          "text": [
            "Epoch 1/10\n",
            "  6/156 [>.............................] - ETA: 7:05 - loss: 4.8121 - accuracy: 0.1183"
          ],
          "name": "stdout"
        }
      ]
    },
    {
      "cell_type": "code",
      "metadata": {
        "id": "xxNzi8H5Q5Cr"
      },
      "source": [
        "model.evaluate(test_ds)"
      ],
      "execution_count": null,
      "outputs": []
    }
  ]
}
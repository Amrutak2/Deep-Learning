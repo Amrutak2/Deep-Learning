{
  "nbformat": 4,
  "nbformat_minor": 0,
  "metadata": {
    "colab": {
      "name": "Q1.ipynb",
      "provenance": [],
      "authorship_tag": "ABX9TyNADFYo8fjoxJLSuUC1PwN7",
      "include_colab_link": true
    },
    "kernelspec": {
      "name": "python3",
      "display_name": "Python 3"
    }
  },
  "cells": [
    {
      "cell_type": "markdown",
      "metadata": {
        "id": "view-in-github",
        "colab_type": "text"
      },
      "source": [
        "<a href=\"https://colab.research.google.com/github/Amrutak2/Deep-Learning/blob/main/Q1.ipynb\" target=\"_parent\"><img src=\"https://colab.research.google.com/assets/colab-badge.svg\" alt=\"Open In Colab\"/></a>"
      ]
    },
    {
      "cell_type": "code",
      "metadata": {
        "id": "yv7880ZbfxmU"
      },
      "source": [
        "#20MAI0027\r\n",
        "#Creating Input matrix\r\n",
        "import numpy as np"
      ],
      "execution_count": 1,
      "outputs": []
    },
    {
      "cell_type": "code",
      "metadata": {
        "colab": {
          "base_uri": "https://localhost:8080/",
          "height": 0
        },
        "id": "GJxZC7njf4iC",
        "outputId": "bce604ce-8ef0-40a8-9192-3c4a8ef3d50b"
      },
      "source": [
        "values = ([1,3],[4,6],[7,9])\r\n",
        "print(\"Training input values without Bias\\n\", values)"
      ],
      "execution_count": 50,
      "outputs": [
        {
          "output_type": "stream",
          "text": [
            "Training input values without Bias\n",
            " ([1, 3], [4, 6], [7, 9])\n"
          ],
          "name": "stdout"
        }
      ]
    },
    {
      "cell_type": "code",
      "metadata": {
        "colab": {
          "base_uri": "https://localhost:8080/",
          "height": 0
        },
        "id": "fvm5DjHKf4ta",
        "outputId": "5ca76681-ddae-4f02-d889-5b9694a6ad47"
      },
      "source": [
        "test2 = [[-1]] * len(values)\r\n",
        "values = np.concatenate((test2, values), axis = 1)  \r\n",
        "print(\"Training input values with bias in it\\n\",values)"
      ],
      "execution_count": 51,
      "outputs": [
        {
          "output_type": "stream",
          "text": [
            "Training input values with bias in it\n",
            " [[-1  1  3]\n",
            " [-1  4  6]\n",
            " [-1  7  9]]\n"
          ],
          "name": "stdout"
        }
      ]
    },
    {
      "cell_type": "code",
      "metadata": {
        "colab": {
          "base_uri": "https://localhost:8080/",
          "height": 0
        },
        "id": "k9vGpu6gf4yx",
        "outputId": "5bf1473c-f603-4daa-d3fc-513788dab889"
      },
      "source": [
        "m=3     #number of elements in each row of inputs\r\n",
        "n=1 \r\n",
        "wt = np.random.rand(m,n)*0.1 - 0.5\r\n",
        "print(\"Initial random weights\\n\",wt)"
      ],
      "execution_count": 52,
      "outputs": [
        {
          "output_type": "stream",
          "text": [
            "Initial random weights\n",
            " [[-0.44693041]\n",
            " [-0.47035925]\n",
            " [-0.41672773]]\n"
          ],
          "name": "stdout"
        }
      ]
    },
    {
      "cell_type": "code",
      "metadata": {
        "colab": {
          "base_uri": "https://localhost:8080/",
          "height": 0
        },
        "id": "gyer3NcRf43F",
        "outputId": "6559c349-edcf-40b6-cf76-ab6c6aaedf68"
      },
      "source": [
        "#Matrix\r\n",
        "final = ([0],[1],[1])\r\n",
        "print(\"Training data target values are\\n\", final)"
      ],
      "execution_count": 53,
      "outputs": [
        {
          "output_type": "stream",
          "text": [
            "Training data target values are\n",
            " ([0], [1], [1])\n"
          ],
          "name": "stdout"
        }
      ]
    },
    {
      "cell_type": "code",
      "metadata": {
        "id": "-9RFB98yf4-s"
      },
      "source": [
        "#updating weights\r\n",
        "def updateWt(wt, inputs, activation, targets):\r\n",
        "    eta = 0.25\r\n",
        "    wt += eta*np.dot(np.transpose(inputs), targets - activation)\r\n",
        "    return wt"
      ],
      "execution_count": 54,
      "outputs": []
    },
    {
      "cell_type": "code",
      "metadata": {
        "id": "pLLQIgRKgMH2"
      },
      "source": [
        "def  predict (inputs, wt, targets):\r\n",
        "    #representing Activation function with 'ack [[]]' variable\r\n",
        "    ack = [[0]] * len(inputs)\r\n",
        "    for i in range(0, len(inputs)):    \r\n",
        "        for j in range(0,len(wt)):\r\n",
        "            ack[i] += inputs[i][j] * wt[j]\r\n",
        "        ack[i] = np.where(ack[i]>0, 1, 0)\r\n",
        "        #checking values with target\r\n",
        "        if(targets[i] != ack[i]):\r\n",
        "            wt = updateWt(wt, inputs, ack[i], targets)\r\n",
        "        print(ack[i])\r\n",
        "    return wt"
      ],
      "execution_count": 55,
      "outputs": []
    },
    {
      "cell_type": "code",
      "metadata": {
        "colab": {
          "base_uri": "https://localhost:8080/",
          "height": 0
        },
        "id": "x6lTuXSjgMdt",
        "outputId": "31573b88-91ee-404c-a4e6-369502211fa5"
      },
      "source": [
        "#Training our model and extracting stable weights\r\n",
        "iterations = 5\r\n",
        "for temp in range(0, iterations):\r\n",
        "    print(\"\\nIteration \",temp+1,\"\\n\")\r\n",
        "    wt = predict(values, wt, final)\r\n",
        "    \r\n",
        "print(\"\\nTrained Weights\\n\", wt)"
      ],
      "execution_count": 56,
      "outputs": [
        {
          "output_type": "stream",
          "text": [
            "\n",
            "Iteration  1 \n",
            "\n",
            "[0]\n",
            "[0]\n",
            "[1]\n",
            "\n",
            "Iteration  2 \n",
            "\n",
            "[1]\n",
            "[1]\n",
            "[1]\n",
            "\n",
            "Iteration  3 \n",
            "\n",
            "[1]\n",
            "[1]\n",
            "[1]\n",
            "\n",
            "Iteration  4 \n",
            "\n",
            "[1]\n",
            "[1]\n",
            "[1]\n",
            "\n",
            "Iteration  5 \n",
            "\n",
            "[1]\n",
            "[1]\n",
            "[1]\n",
            "\n",
            "Trained Weights\n",
            " [[0.05306959]\n",
            " [1.27964075]\n",
            " [0.33327227]]\n"
          ],
          "name": "stdout"
        }
      ]
    },
    {
      "cell_type": "code",
      "metadata": {
        "colab": {
          "base_uri": "https://localhost:8080/",
          "height": 0
        },
        "id": "1zdYkBQbgMgf",
        "outputId": "51780f22-f7ac-409a-fe41-5cc2096da26a"
      },
      "source": [
        "def perceptronPredict(wt, newInput):\r\n",
        "    ac = np.dot(newInput, wt)\r\n",
        "    ac = np.where(ac>0, 1, 0)\r\n",
        "    print(ac)\r\n",
        "\r\n",
        "\r\n",
        "newInput = ([-1.0, 7, 8])\r\n",
        "perceptronPredict(wt, newInput)"
      ],
      "execution_count": 57,
      "outputs": [
        {
          "output_type": "stream",
          "text": [
            "[1]\n"
          ],
          "name": "stdout"
        }
      ]
    },
    {
      "cell_type": "code",
      "metadata": {
        "id": "19pBydbYgMiA"
      },
      "source": [
        ""
      ],
      "execution_count": null,
      "outputs": []
    }
  ]
}